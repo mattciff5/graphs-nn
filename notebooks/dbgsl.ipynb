{
 "cells": [
  {
   "cell_type": "code",
   "execution_count": 3,
   "metadata": {},
   "outputs": [],
   "source": [
    "import torch\n",
    "import torch.nn as nn\n",
    "import torch as pt\n",
    "from torch_geometric.datasets import TUDataset\n",
    "from torch_geometric.loader import DataLoader\n",
    "from torch_geometric.data import Data\n",
    "from torch.nn import Linear\n",
    "import torch.nn.functional as F\n",
    "from torch_geometric.nn import GCNConv\n",
    "from torch_geometric.nn import global_mean_pool\n",
    "import torch.optim as optim\n",
    "import networkx as nx\n",
    "import matplotlib.pyplot as plt\n",
    "import numpy as np\n",
    "import seaborn as sns\n",
    "import os\n",
    "from tqdm import trange"
   ]
  },
  {
   "cell_type": "markdown",
   "metadata": {},
   "source": [
    "# HCP Data using Simeon preproc"
   ]
  },
  {
   "cell_type": "markdown",
   "metadata": {},
   "source": [
    "## Function definitions"
   ]
  },
  {
   "cell_type": "code",
   "execution_count": 4,
   "metadata": {},
   "outputs": [],
   "source": [
    "# From DBGDGM code\n",
    "\n",
    "def create_fc_matrices(scan, window_size=30, step_size=10):\n",
    "    \"\"\"\n",
    "    Create functional connectivity matrices using a sliding window approach.\n",
    "    Function from DBGDGM code.\n",
    "    \"\"\"\n",
    "    n_timepoints = scan.shape[1]\n",
    "    fc_matrices = []\n",
    "\n",
    "    for start in range(0, n_timepoints - window_size + 1, step_size):\n",
    "        window = scan[:, start:start + window_size]\n",
    "        correlation_matrix = np.corrcoef(window)   # pearson correlation \n",
    "        fc_matrices.append(correlation_matrix)\n",
    "\n",
    "    return fc_matrices\n",
    "\n",
    "\n",
    "def threshold_fc_matrix(fc_matrix, percentile=5):\n",
    "    \"\"\"\n",
    "    Threshold the FC matrix to keep only the top percentile connections.\n",
    "    \"\"\"\n",
    "    threshold = np.percentile(fc_matrix[np.tril_indices_from(fc_matrix, k=-1)], 100 - percentile)   \n",
    "    graph = (fc_matrix > threshold).astype(int)\n",
    "    np.fill_diagonal(graph, 0)  # remove self-edges\n",
    "    return graph\n",
    "\n",
    "\n",
    "def create_networkx_graph(matrix):\n",
    "    G = nx.Graph(matrix)\n",
    "    return G\n",
    "\n",
    "\n",
    "def convert_to_pyg_graph(nx_graph, label):\n",
    "    graph = nx.Graph(nx_graph)\n",
    "    edges = torch.tensor(list(graph.edges), dtype=torch.long).t().contiguous()\n",
    "    x = torch.tensor(np.identity(graph.number_of_nodes()), dtype=torch.float)\n",
    "    y = torch.tensor([label], dtype=torch.long)\n",
    "    return Data(x=x, edge_index=edges, y=y)"
   ]
  },
  {
   "cell_type": "code",
   "execution_count": 5,
   "metadata": {},
   "outputs": [],
   "source": [
    "# From DBGDSL code\n",
    "\n",
    "def create_fc_matrices_dbgsl(scan, window_size=30, step_size=10):\n",
    "    \"\"\"\n",
    "    Create functional connectivity matrices using a sliding window approach.\n",
    "    Function created using DBGSL code to split data into windows.\n",
    "    \"\"\"\n",
    "    n_timepoints = scan.shape[1]\n",
    "    t_repetition = (n_timepoints - 2*(window_size - 1) - 1)//(step_size + 1)\n",
    "    fc_matrices = []\n",
    "\n",
    "    for t in range(t_repetition):\n",
    "        window = scan[:, t*step_size:t*step_size+window_size]\n",
    "        correlation_matrix = np.corrcoef(window)   # pearson correlation \n",
    "        fc_matrices.append(correlation_matrix)\n",
    "\n",
    "    return fc_matrices\n",
    "\n",
    "def get_x_split(x: pt.Tensor, stride, len_window, t_repetition) -> pt.Tensor:\n",
    "    x_split = pt.stack([x[:, :, t*stride:t*stride+len_window] for t in range(t_repetition)], 1)\n",
    "    return x_split.float()\n",
    "\n",
    "def get_node_features(x_split: pt.Tensor) -> pt.Tensor:\n",
    "    x_split_avg = pt.mean(x_split, -1, keepdim=True)\n",
    "    x_split_std = pt.std(x_split, -1, keepdim=True)\n",
    "    x_split_cov = pt.matmul(x_split - x_split_avg, pt.transpose(x_split - x_split_avg, 2, 3))\n",
    "    node_features = x_split_cov/pt.matmul(x_split_std, pt.transpose(x_split_std, 2, 3))\n",
    "    return node_features\n",
    "\n",
    "def get_coo(adjacency_matrix: pt.Tensor) -> pt.Tensor:\n",
    "    i = 0\n",
    "    edge_indices = pt.nonzero(adjacency_matrix > 0, as_tuple=False).T\n",
    "    edge_index_batch = pt.clone(edge_indices[1:3, :])\n",
    "    for t in range(len(edge_indices[0])):\n",
    "        if i < edge_indices[0][t]:\n",
    "            i = i + 1\n",
    "            n_nodes = max(edge_indices[1][t-1], edge_indices[2][t-1])+1\n",
    "            edge_index_batch[0][t:] = edge_index_batch[0][t:] + n_nodes\n",
    "            edge_index_batch[1][t:] = edge_index_batch[1][t:] + n_nodes\n",
    "    edge_attr_batch = adjacency_matrix[adjacency_matrix > 0].unsqueeze(-1)\n",
    "    batch = edge_indices[0]\n",
    "    return edge_index_batch, edge_attr_batch, batch\n",
    "\n",
    "\n",
    "def construct_graph(x_ebd: torch.Tensor) -> torch.Tensor:\n",
    "    batch_size = x_ebd.shape[0]\n",
    "    batch_adjacency_matrices = []\n",
    "\n",
    "    for i in range(batch_size):\n",
    "        sample = x_ebd[i]\n",
    "        sample = F.softmax(sample, -1)\n",
    "        adjacency_matrix = torch.matmul(sample, sample.transpose(1, 2))\n",
    "        batch_adjacency_matrices.append(adjacency_matrix)\n",
    "    adjacency_matrix_batch = torch.stack(batch_adjacency_matrices, dim=0)\n",
    "\n",
    "    return adjacency_matrix_batch\n",
    "\n",
    "def sparsify(adjacency_matrix_batch: torch.Tensor) -> torch.Tensor:\n",
    "    threshold = torch.nn.parameter.Parameter(torch.full((1,), -5.0))\n",
    "    batch_sparse_adjacency = []\n",
    "\n",
    "    for i in range(adjacency_matrix_batch.size(0)):\n",
    "        adjacency_matrix = adjacency_matrix_batch[i]\n",
    "        sparse_adjacency = F.relu(adjacency_matrix - torch.sigmoid(threshold))\n",
    "        batch_sparse_adjacency.append(sparse_adjacency)\n",
    "    sparse_adjacency_batch = torch.stack(batch_sparse_adjacency, dim=0)\n",
    "\n",
    "    return sparse_adjacency_batch"
   ]
  },
  {
   "cell_type": "code",
   "execution_count": 8,
   "metadata": {},
   "outputs": [],
   "source": [
    "# From DBGSL code\n",
    "\n",
    "class InceptionTC(nn.Module):\n",
    "    def __init__(self, itcn_d, dilation):\n",
    "        super(InceptionTC, self).__init__()\n",
    "        self.t_conv_0 = nn.Conv1d(itcn_d, itcn_d//3, kernel_list[0], dilation=dilation, padding=(kernel_list[0]-1)*dilation)\n",
    "        self.t_conv_1 = nn.Conv1d(itcn_d, itcn_d//3, kernel_list[1], dilation=dilation, padding=(kernel_list[1]-1)*dilation)\n",
    "        self.t_conv_2 = nn.Conv1d(itcn_d, itcn_d//3, kernel_list[2], dilation=dilation, padding=(kernel_list[2]-1)*dilation)\n",
    "        self.bn = nn.BatchNorm1d(itcn_d)\n",
    "\n",
    "    def forward(self, x_split, dilation):\n",
    "        x_cat = [\n",
    "            self.clip_end(self.t_conv_0(x_split), 0, dilation),\n",
    "            self.clip_end(self.t_conv_1(x_split), 1, dilation),\n",
    "            self.clip_end(self.t_conv_2(x_split), 2, dilation)\n",
    "        ]\n",
    "        x_cat = torch.cat(x_cat, 1)\n",
    "        x_out = F.relu(self.bn(x_cat))\n",
    "        return x_out\n",
    "\n",
    "    def clip_end(self, x, i, dilation):\n",
    "        padding = (kernel_list[i] - 1) * dilation\n",
    "        x = x[:, :, :-padding].contiguous()\n",
    "        return x\n",
    "\n",
    "\n",
    "class ITCN(nn.Module):\n",
    "    def __init__(self, batch_size, n_neurons, itcn_d, t_repetition, kernel_list):\n",
    "        super(ITCN, self).__init__()\n",
    "        self.batch_size = batch_size\n",
    "        self.n_neurons = n_neurons\n",
    "        self.itcn_d = itcn_d\n",
    "        self.t_repetition = t_repetition\n",
    "        self.kernel_list = kernel_list\n",
    "        self.inception_tc_2 = InceptionTC(itcn_d, 2)  \n",
    "        self.inception_tc_4 = InceptionTC(itcn_d, 4)\n",
    "        self.inception_tc_6 = InceptionTC(itcn_d, 6)\n",
    "\n",
    "    def forward(self, x_split):\n",
    "        x_split = x_split.reshape(self.batch_size * self.n_neurons, self.itcn_d, self.t_repetition)\n",
    "        x_split = self.inception_tc_2(x_split, 2)\n",
    "        x_split = self.inception_tc_4(x_split, 4)\n",
    "        x_split = self.inception_tc_6(x_split, 6)\n",
    "        x_split = x_split.reshape(self.batch_size, self.t_repetition, self.n_neurons, self.itcn_d)\n",
    "        return x_split\n",
    "\n",
    "\n",
    "class RegionEmbedding(nn.Module):\n",
    "    def __init__(self, len_window, itcn_d, ebd_d, batch_size, n_neurons, t_repetition, kernel_list):\n",
    "        super(RegionEmbedding, self).__init__()\n",
    "        self.input_layer = nn.Linear(len_window, itcn_d)\n",
    "        self.itcn_layer = ITCN(batch_size, n_neurons, itcn_d, t_repetition, kernel_list)\n",
    "        self.output_fc = nn.Sequential(nn.Linear(itcn_d, itcn_d), nn.ReLU(), nn.Linear(itcn_d, ebd_d))\n",
    "\n",
    "    def forward(self, x_split):\n",
    "        x_split = self.input_layer(x_split)\n",
    "        x_split = self.itcn_layer(x_split)\n",
    "        x_split = self.output_fc(x_split)\n",
    "        return x_split\n",
    "\n",
    "\n",
    "class SpatialAttention(nn.Module):\n",
    "    def __init__(self, n_neurons, tau):\n",
    "        super(SpatialAttention, self).__init__()\n",
    "        n_neurons_ebd = int(tau * n_neurons)\n",
    "        self.spatial_attn = nn.Sequential(\n",
    "            nn.Linear(n_neurons, n_neurons_ebd, bias=False),\n",
    "            nn.ReLU(),\n",
    "            nn.Linear(n_neurons_ebd, n_neurons, bias=False),\n",
    "            nn.Sigmoid()\n",
    "        )\n",
    "\n",
    "    def forward(self, x_ebd):\n",
    "        x_spatial_attn = torch.mean(x_ebd, -1)\n",
    "        x_spatial_attn = self.spatial_attn(x_spatial_attn)\n",
    "        x_spatial_attn = x_spatial_attn.unsqueeze(-1)\n",
    "        return x_spatial_attn\n",
    "\n",
    "\n",
    "class TemporalAttention(nn.Module):\n",
    "    def __init__(self, t_repetition, tau, n_neurons, ebd_d):\n",
    "        super(TemporalAttention, self).__init__()\n",
    "        T_ebd = int(tau * t_repetition)\n",
    "        self.temporal_attn = nn.Sequential(\n",
    "            nn.Linear(t_repetition, T_ebd, bias=False),\n",
    "            nn.ReLU(),\n",
    "            nn.Linear(T_ebd, t_repetition, bias=False),\n",
    "            nn.Sigmoid()\n",
    "        )\n",
    "\n",
    "    def forward(self, x_ebd):\n",
    "        x_temporal_attn = x_ebd.view(-1, t_repetition, n_neurons * ebd_d)\n",
    "        x_temporal_attn = torch.mean(x_temporal_attn, -1)\n",
    "        x_temporal_attn = self.temporal_attn(x_temporal_attn)\n",
    "        x_temporal_attn = x_temporal_attn.view(-1, t_repetition, 1, 1)\n",
    "        return x_temporal_attn\n",
    "\n",
    "\n",
    "class MyModel(nn.Module):\n",
    "    def __init__(self, len_window, itcn_d, ebd_d, batch_size, n_neurons, t_repetition, tau, kernel_list):\n",
    "        super(MyModel, self).__init__()\n",
    "        self.region_embd = RegionEmbedding(len_window, itcn_d, ebd_d, batch_size, n_neurons, t_repetition, kernel_list)\n",
    "        self.spat_attention = SpatialAttention(n_neurons, tau)\n",
    "        self.temp_attention = TemporalAttention(t_repetition, tau, n_neurons, ebd_d)\n",
    "\n",
    "    def forward(self, x):\n",
    "        x_ebd = self.region_embd(x)\n",
    "        x_spatial_attention = self.spat_attention(x_ebd)\n",
    "        x_ebd = x_spatial_attention * x_ebd\n",
    "        x_temporal_attn = self.temp_attention(x_ebd)\n",
    "        x_ebd = x_temporal_attn * x_ebd\n",
    "        return x_ebd\n"
   ]
  },
  {
   "cell_type": "markdown",
   "metadata": {},
   "source": [
    "## Example of tensor dimensions"
   ]
  },
  {
   "cell_type": "code",
   "execution_count": 9,
   "metadata": {},
   "outputs": [
    {
     "name": "stdout",
     "output_type": "stream",
     "text": [
      "FILE_PATH:  ../data/hcp/raw/100206_0.npy\n",
      "time_series_data SHAPE:  (360, 490)\n"
     ]
    },
    {
     "name": "stderr",
     "output_type": "stream",
     "text": [
      "/tmp/ipykernel_3584778/983908113.py:12: UserWarning: Creating a tensor from a list of numpy.ndarrays is extremely slow. Please consider converting the list to a single numpy.ndarray with numpy.array() before converting to a tensor. (Triggered internally at /home/conda/feedstock_root/build_artifacts/pytorch-recipe_1699245841590/work/torch/csrc/utils/tensor_new.cpp:261.)\n",
      "  fc_matrices_tn = torch.tensor(fc_matrices).reshape(1, len(fc_matrices), 360, 360)\n"
     ]
    },
    {
     "name": "stdout",
     "output_type": "stream",
     "text": [
      "fc_matrices_tn SHAPE (slicing as in DBGDGM code):  torch.Size([1, 47, 360, 360])\n",
      "fc_matrices_39 SHAPE (slicing as in DBGSL code):  torch.Size([1, 39, 360, 360])\n"
     ]
    }
   ],
   "source": [
    "# ----------- One raw as example -------------------------\n",
    "\n",
    "data_path = '../data/hcp/raw'\n",
    "file_name = '100206_0.npy'\n",
    "file_path = os.path.join(data_path, file_name)\n",
    "print('FILE_PATH: ', file_path)\n",
    "time_series_data = np.load(file_path)[:, :490]\n",
    "print('time_series_data SHAPE: ', time_series_data.shape)\n",
    "label = int(os.path.basename(file_path).split('_')[-1].split('.')[0])\n",
    "\n",
    "fc_matrices = create_fc_matrices(time_series_data) # --> dbgdgm way of slicing the timeseries\n",
    "fc_matrices_tn = torch.tensor(fc_matrices).reshape(1, len(fc_matrices), 360, 360)\n",
    "print('fc_matrices_tn SHAPE (slicing as in DBGDGM code): ', fc_matrices_tn.shape)\n",
    "fc_matrices_dbgsl = create_fc_matrices_dbgsl(time_series_data)\n",
    "fc_matrices_dbgsl_tn = torch.tensor(fc_matrices_dbgsl).reshape(1, len(fc_matrices_dbgsl), 360, 360) # --> dbgsl way of slicing the timeseries\n",
    "print('fc_matrices_39 SHAPE (slicing as in DBGSL code): ', fc_matrices_dbgsl_tn.shape)\n",
    "\n",
    "graphs = [threshold_fc_matrix(fc) for fc in fc_matrices] \n",
    "graph = graphs[0]\n",
    "graph_nx = convert_to_pyg_graph(graph, label)\n",
    "\n",
    "# ----------- One raw as example -------------------------\n"
   ]
  },
  {
   "cell_type": "markdown",
   "metadata": {},
   "source": [
    "### Hyperparameters"
   ]
  },
  {
   "cell_type": "code",
   "execution_count": 10,
   "metadata": {},
   "outputs": [
    {
     "name": "stdout",
     "output_type": "stream",
     "text": [
      "t_repetition:  39\n",
      "RESHAPING time_series_data:  torch.Size([1, 360, 490])\n",
      "SPLITTING WINDOW time_series_data:  torch.Size([1, 39, 360, 30])\n"
     ]
    }
   ],
   "source": [
    "batch_size = 1   # remember to change\n",
    "T = 490\n",
    "len_window = 30   \n",
    "stride = 10  \n",
    "t_repetition = (T - 2*(len_window - 1) - 1)//(stride + 1)\n",
    "print('t_repetition: ', t_repetition)\n",
    "\n",
    "# Training hyperparameters\n",
    "device = 'cpu'\n",
    "n_neurons = 360\n",
    "lr = 0.003  # learning rate, 0.003\n",
    "# n_episodes = 1000   # n_epochs, remember to change -> moved below\n",
    "n_itcn_layers = 3\n",
    "n_gru_layers = 1\n",
    "tau = 0.1\n",
    "kernel_list = [3, 5, 7]\n",
    "itcn_d = 9\n",
    "ebd_d = 3\n",
    "gcn_d = 5\n",
    "n_classes = 1\n",
    "\n",
    "time_series_torch = torch.from_numpy(time_series_data).reshape(batch_size, time_series_data.shape[0], time_series_data.shape[1])\n",
    "print('RESHAPING time_series_data: ', time_series_torch.shape)\n",
    "\n",
    "x_split = get_x_split(time_series_torch, stride, len_window, t_repetition)\n",
    "print('SPLITTING WINDOW time_series_data: ', x_split.shape)"
   ]
  },
  {
   "cell_type": "markdown",
   "metadata": {},
   "source": [
    "### Dataset building"
   ]
  },
  {
   "cell_type": "code",
   "execution_count": 11,
   "metadata": {},
   "outputs": [],
   "source": [
    "data_path = '../data/hcp/raw'\n",
    "dataset_input = []\n",
    "dataset_ground = []\n",
    "for file_name in os.listdir(data_path):\n",
    "    if file_name.endswith(\".npy\"):\n",
    "        # get raw data\n",
    "        file_path = os.path.join(data_path, file_name)\n",
    "        # truncate the timeseries\n",
    "        time_series_data = np.load(file_path)[:, :490]\n",
    "        time_series_torch = torch.from_numpy(time_series_data).reshape(1, \n",
    "                                             time_series_data.shape[0], time_series_data.shape[1])\n",
    "        # get splitting windows\n",
    "        x_split = get_x_split(time_series_torch, stride, len_window, t_repetition)\n",
    "        dataset_input.append(x_split)\n",
    "\n",
    "        # create FC matrices based on the previous splitted windows\n",
    "        fc_matrices = create_fc_matrices_dbgsl(time_series_data)\n",
    "        fc_matrices_tn = torch.tensor(fc_matrices).reshape(1, len(fc_matrices), 360, 360)\n",
    "\n",
    "        # for our first training, we will assume that FC matrices already created are the training objective\n",
    "        ground_truth = fc_matrices_tn.float()\n",
    "        dataset_ground.append(ground_truth)"
   ]
  },
  {
   "cell_type": "code",
   "execution_count": 12,
   "metadata": {},
   "outputs": [
    {
     "name": "stdout",
     "output_type": "stream",
     "text": [
      "torch.Size([300, 39, 360, 30])\n",
      "torch.Size([300, 39, 360, 360])\n"
     ]
    }
   ],
   "source": [
    "input_tensor = torch.cat(dataset_input, dim=0)\n",
    "ground_truth_tens = torch.cat(dataset_ground, dim=0)\n",
    "print(input_tensor.shape)\n",
    "print(ground_truth_tens.shape)"
   ]
  },
  {
   "cell_type": "code",
   "execution_count": 13,
   "metadata": {},
   "outputs": [],
   "source": [
    "# Instantiate your model\n",
    "model = MyModel(len_window, itcn_d, ebd_d, batch_size, n_neurons, t_repetition, tau, kernel_list)"
   ]
  },
  {
   "cell_type": "markdown",
   "metadata": {},
   "source": [
    "## Training"
   ]
  },
  {
   "cell_type": "markdown",
   "metadata": {},
   "source": [
    "### One subject only"
   ]
  },
  {
   "cell_type": "code",
   "execution_count": 14,
   "metadata": {},
   "outputs": [
    {
     "name": "stdout",
     "output_type": "stream",
     "text": [
      "x_split shape (data splitted into time windows):  torch.Size([1, 39, 360, 30])\n",
      "fc_matrices_dgbsl shape (final graph):  torch.Size([1, 39, 360, 360])\n"
     ]
    }
   ],
   "source": [
    "print('x_split shape (data splitted into time windows): ', x_split.shape)\n",
    "print('fc_matrices_dgbsl shape (final graph): ', fc_matrices_dbgsl_tn.shape)"
   ]
  },
  {
   "cell_type": "code",
   "execution_count": 15,
   "metadata": {},
   "outputs": [
    {
     "name": "stderr",
     "output_type": "stream",
     "text": [
      "100%|██████████| 5000/5000 [08:04<00:00, 10.32it/s, Loss=0.0859]\n"
     ]
    }
   ],
   "source": [
    "n_episodes = 5000   # n_epochs, remember to change\n",
    "\n",
    "criterion = nn.MSELoss()\n",
    "optimizer = optim.Adam(model.parameters(), lr=lr)\n",
    "loss_arr = np.zeros(n_episodes)\n",
    "\n",
    "epochs = trange(n_episodes)\n",
    "for epoch in epochs:\n",
    "    optimizer.zero_grad()\n",
    "    outputs = model(x_split)\n",
    "    adjacency_matrix = construct_graph(outputs)\n",
    "    sparse_adjacency = sparsify(adjacency_matrix)\n",
    "    ground_truth = fc_matrices_dbgsl_tn.float()\n",
    "    loss = criterion(sparse_adjacency, ground_truth)\n",
    "    loss.backward()\n",
    "    optimizer.step()\n",
    "    loss_arr[epoch] = loss.item()\n",
    "\n",
    "    epochs.set_postfix({'Loss': loss.item()})"
   ]
  },
  {
   "cell_type": "code",
   "execution_count": 22,
   "metadata": {},
   "outputs": [
    {
     "data": {
      "image/png": "[encoded data removed]",
      "text/plain": [
       "<Figure size 640x480 with 1 Axes>"
      ]
     },
     "metadata": {},
     "output_type": "display_data"
    }
   ],
   "source": [
    "fig = plt.figure()\n",
    "ax = fig.gca()\n",
    "# ax.set_yscale('log')\n",
    "# ax.set_xscale('log')\n",
    "periods = 50\n",
    "# Mobile mean of the loss\n",
    "loss_mm = np.convolve([1/periods]*periods, loss_arr)[periods:-periods] \n",
    "ax.plot(loss_mm)\n",
    "ax.plot(n_episodes-periods, loss_mm[-1], '.', color = \"red\", label=f'Final loss = {loss_arr[-periods:].mean():.2e}')\n",
    "\n",
    "plt.title(\"Training loss\")\n",
    "\n",
    "# ax.set_xlim(periods, n_epochs)\n",
    "ax.set_xlabel(\"epoch\")\n",
    "ax.set_ylabel(\"Loss\")\n",
    "\n",
    "plt.legend(loc=3)\n",
    "\n",
    "plt.show()"
   ]
  },
  {
   "cell_type": "markdown",
   "metadata": {},
   "source": [
    "### Multiple subjects"
   ]
  },
  {
   "cell_type": "code",
   "execution_count": null,
   "metadata": {},
   "outputs": [
    {
     "name": "stdout",
     "output_type": "stream",
     "text": [
      "Epoch 1/100, Average Loss: 0.10520316660404205\n",
      "Epoch 2/100, Average Loss: 0.10508951172232628\n",
      "Epoch 3/100, Average Loss: 0.10506994277238846\n",
      "Epoch 4/100, Average Loss: 0.10506955813616514\n",
      "Epoch 5/100, Average Loss: 0.1050680112093687\n",
      "Epoch 6/100, Average Loss: 0.10506728012114763\n",
      "Epoch 7/100, Average Loss: 0.10506681445986032\n",
      "Epoch 8/100, Average Loss: 0.10506607312709093\n",
      "Epoch 9/100, Average Loss: 0.10506535414606333\n",
      "Epoch 10/100, Average Loss: 0.10506449267268181\n",
      "Epoch 11/100, Average Loss: 0.10506337322294712\n",
      "Epoch 12/100, Average Loss: 0.10506176017224789\n",
      "Epoch 13/100, Average Loss: 0.10505902674049139\n",
      "Epoch 14/100, Average Loss: 0.10505409725010395\n",
      "Epoch 15/100, Average Loss: 0.1050462992861867\n",
      "Epoch 16/100, Average Loss: 0.10503544006496668\n",
      "Epoch 17/100, Average Loss: 0.10502195823937654\n",
      "Epoch 18/100, Average Loss: 0.10500869806855917\n",
      "Epoch 19/100, Average Loss: 0.10499266162514687\n",
      "Epoch 20/100, Average Loss: 0.10497252736240625\n",
      "Epoch 21/100, Average Loss: 0.10494766756892204\n",
      "Epoch 22/100, Average Loss: 0.10491569433361292\n",
      "Epoch 23/100, Average Loss: 0.10487017594277859\n",
      "Epoch 24/100, Average Loss: 0.10479899030178785\n",
      "Epoch 25/100, Average Loss: 0.10468897223472595\n",
      "Epoch 26/100, Average Loss: 0.10457943379878998\n",
      "Epoch 27/100, Average Loss: 0.10450390260666609\n",
      "Epoch 28/100, Average Loss: 0.10445464123040438\n",
      "Epoch 29/100, Average Loss: 0.10442299488931894\n",
      "Epoch 30/100, Average Loss: 0.10439124051481485\n",
      "Epoch 31/100, Average Loss: 0.10437029413878918\n",
      "Epoch 32/100, Average Loss: 0.10435492265969515\n",
      "Epoch 33/100, Average Loss: 0.10434499941766262\n",
      "Epoch 34/100, Average Loss: 0.10433508735150099\n",
      "Epoch 35/100, Average Loss: 0.10432553850114346\n",
      "Epoch 36/100, Average Loss: 0.10431813262403011\n",
      "Epoch 37/100, Average Loss: 0.10431295540183783\n",
      "Epoch 38/100, Average Loss: 0.104308539070189\n",
      "Epoch 39/100, Average Loss: 0.10430545639246702\n",
      "Epoch 40/100, Average Loss: 0.10430199932307005\n",
      "Epoch 41/100, Average Loss: 0.10429923422634602\n",
      "Epoch 42/100, Average Loss: 0.10429709497839212\n",
      "Epoch 43/100, Average Loss: 0.10429555550217628\n",
      "Epoch 44/100, Average Loss: 0.10429386328905821\n",
      "Epoch 45/100, Average Loss: 0.1042913543060422\n",
      "Epoch 46/100, Average Loss: 0.10428927652537823\n",
      "Epoch 47/100, Average Loss: 0.10428801830857992\n",
      "Epoch 48/100, Average Loss: 0.10428719222545624\n",
      "Epoch 49/100, Average Loss: 0.1042866725474596\n",
      "Epoch 50/100, Average Loss: 0.10428649093955755\n",
      "Epoch 51/100, Average Loss: 0.10428565554320812\n",
      "Epoch 52/100, Average Loss: 0.10428354889154434\n",
      "Epoch 53/100, Average Loss: 0.10428084060549736\n",
      "Epoch 54/100, Average Loss: 0.10427870601415634\n",
      "Epoch 55/100, Average Loss: 0.10427735466510057\n",
      "Epoch 56/100, Average Loss: 0.10427606198936701\n",
      "Epoch 57/100, Average Loss: 0.10427518654614687\n",
      "Epoch 58/100, Average Loss: 0.10427431762218475\n",
      "Epoch 59/100, Average Loss: 0.10427325032651424\n",
      "Epoch 60/100, Average Loss: 0.10427108127623796\n",
      "Epoch 61/100, Average Loss: 0.10427019651979208\n",
      "Epoch 62/100, Average Loss: 0.10426993481814861\n",
      "Epoch 63/100, Average Loss: 0.10426981654018164\n",
      "Epoch 64/100, Average Loss: 0.10426921676844358\n",
      "Epoch 65/100, Average Loss: 0.10426804330199957\n",
      "Epoch 66/100, Average Loss: 0.10426667984575033\n",
      "Epoch 67/100, Average Loss: 0.1042651766911149\n",
      "Epoch 68/100, Average Loss: 0.10426376108080149\n",
      "Epoch 69/100, Average Loss: 0.10426245722919703\n",
      "Epoch 70/100, Average Loss: 0.10426161251962185\n",
      "Epoch 71/100, Average Loss: 0.10426072776317596\n",
      "Epoch 72/100, Average Loss: 0.10425993986427784\n",
      "Epoch 73/100, Average Loss: 0.10425891727209091\n",
      "Epoch 74/100, Average Loss: 0.10425660386681557\n",
      "Epoch 75/100, Average Loss: 0.104255479760468\n",
      "Epoch 76/100, Average Loss: 0.10425431281328201\n",
      "Epoch 77/100, Average Loss: 0.10425250511616468\n",
      "Epoch 78/100, Average Loss: 0.10425139404833317\n",
      "Epoch 79/100, Average Loss: 0.1042509563267231\n",
      "Epoch 80/100, Average Loss: 0.10425079707056284\n",
      "Epoch 81/100, Average Loss: 0.10425069276243448\n",
      "Epoch 82/100, Average Loss: 0.10425009485334158\n",
      "Epoch 83/100, Average Loss: 0.1042489567771554\n",
      "Epoch 84/100, Average Loss: 0.10424822568893433\n",
      "Epoch 85/100, Average Loss: 0.10424693860113621\n",
      "Epoch 86/100, Average Loss: 0.10424612369388342\n",
      "Epoch 87/100, Average Loss: 0.10424575675278902\n",
      "Epoch 88/100, Average Loss: 0.10424540471285582\n",
      "Epoch 89/100, Average Loss: 0.10424495860934258\n",
      "Epoch 90/100, Average Loss: 0.10424432624131441\n",
      "Epoch 91/100, Average Loss: 0.10424348153173923\n",
      "Epoch 92/100, Average Loss: 0.10424273926764727\n",
      "Epoch 93/100, Average Loss: 0.10424222983419895\n",
      "Epoch 94/100, Average Loss: 0.10424165707081556\n",
      "Epoch 95/100, Average Loss: 0.10424091015011072\n",
      "Epoch 96/100, Average Loss: 0.10424026194959879\n",
      "Epoch 97/100, Average Loss: 0.10423970222473145\n",
      "Epoch 98/100, Average Loss: 0.1042391350492835\n",
      "Epoch 99/100, Average Loss: 0.104238610714674\n",
      "Epoch 100/100, Average Loss: 0.10423823725432158\n"
     ]
    }
   ],
   "source": [
    "train_len = 240\n",
    "test_len = 60\n",
    "\n",
    "train_input = input_tensor[:train_len]\n",
    "test_input = input_tensor[train_len:train_len+test_len]\n",
    "train_ground = ground_truth_tens[:train_len]\n",
    "test_ground = ground_truth_tens[train_len:train_len+test_len]\n",
    "\n",
    "criterion = nn.MSELoss()\n",
    "optimizer = optim.Adam(model.parameters(), lr=lr)\n",
    "\n",
    "n_samples_train = train_input.size(0)\n",
    "n_batches_train = n_samples_train // batch_size\n",
    "\n",
    "for epoch in range(n_episodes):\n",
    "    total_loss = 0.0\n",
    "    model.train()\n",
    "    for i in range(n_batches_train):\n",
    "        start_idx = i * batch_size\n",
    "        end_idx = (i + 1) * batch_size\n",
    "        x_split_batch = train_input[start_idx:end_idx]\n",
    "        ground_truth_batch = train_ground[start_idx:end_idx]\n",
    "        optimizer.zero_grad()\n",
    "        outputs = model(x_split_batch)\n",
    "        adjacency_matrix = construct_graph(outputs)\n",
    "        sparse_adjacency = sparsify(adjacency_matrix)\n",
    "        loss = criterion(sparse_adjacency, ground_truth_batch)\n",
    "        total_loss += loss.item()\n",
    "        loss.backward()\n",
    "        optimizer.step()\n",
    "\n",
    "    average_loss = total_loss / n_batches_train\n",
    "    print(f'Epoch {epoch + 1}/{n_episodes}, Average Loss: {average_loss}')"
   ]
  },
  {
   "cell_type": "code",
   "execution_count": null,
   "metadata": {},
   "outputs": [
    {
     "name": "stdout",
     "output_type": "stream",
     "text": [
      "Testing - Average Loss: 0.09685724973678589\n"
     ]
    }
   ],
   "source": [
    "n_samples_test = test_input.size(0)\n",
    "n_batches_test = n_samples_test // batch_size\n",
    "\n",
    "total_loss_test = 0.0\n",
    "\n",
    "model.eval() \n",
    "\n",
    "with torch.no_grad():  # Disable gradient computation during testing\n",
    "    for i in range(n_batches_test):\n",
    "        start_idx = i * batch_size\n",
    "        end_idx = (i + 1) * batch_size\n",
    "        x_split_batch_test = test_input[start_idx:end_idx]\n",
    "        ground_truth_batch_test = test_ground[start_idx:end_idx]\n",
    "\n",
    "        outputs_test = model(x_split_batch_test)\n",
    "        adjacency_matrix_test = construct_graph(outputs_test)\n",
    "        sparse_adjacency_test = sparsify(adjacency_matrix_test)\n",
    "        loss_test = criterion(sparse_adjacency_test, ground_truth_batch_test)\n",
    "        total_loss_test += loss_test.item()\n",
    "\n",
    "average_loss_test = total_loss_test / n_batches_test\n",
    "print(f'Testing - Average Loss: {average_loss_test}')"
   ]
  }
 ],
 "metadata": {
  "kernelspec": {
   "display_name": "dbgdgm",
   "language": "python",
   "name": "python3"
  },
  "language_info": {
   "codemirror_mode": {
    "name": "ipython",
    "version": 3
   },
   "file_extension": ".py",
   "mimetype": "text/x-python",
   "name": "python",
   "nbconvert_exporter": "python",
   "pygments_lexer": "ipython3",
   "version": "3.9.16"
  }
 },
 "nbformat": 4,
 "nbformat_minor": 2
}
