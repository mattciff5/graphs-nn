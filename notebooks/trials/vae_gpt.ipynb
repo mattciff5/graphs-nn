{
 "cells": [
  {
   "cell_type": "code",
   "execution_count": 27,
   "metadata": {},
   "outputs": [],
   "source": [
    "import torch\n",
    "from torch_geometric.nn import GCNConv\n",
    "import torch.nn as nn\n",
    "import torch.nn.functional as F\n",
    "from torch_geometric.utils import from_scipy_sparse_matrix\n",
    "from torch_geometric.data import Data\n",
    "import numpy as np"
   ]
  },
  {
   "cell_type": "code",
   "execution_count": 48,
   "metadata": {},
   "outputs": [],
   "source": [
    "class TemporalGraphAutoencoder(nn.Module):\n",
    "    def __init__(self, num_nodes, hidden_dim, embedding_dim, num_time_steps, batch_size):\n",
    "        super(TemporalGraphAutoencoder, self).__init__()\n",
    "        self.num_time_steps = num_time_steps\n",
    "        self.num_nodes = num_nodes\n",
    "        self.batch_size = batch_size\n",
    "        self.encoder = GCNConv(num_nodes, hidden_dim)\n",
    "        self.embedding_layer = GCNConv(hidden_dim, embedding_dim)\n",
    "        self.lstm = nn.LSTM(embedding_dim * num_nodes, hidden_dim, batch_first=True)\n",
    "        self.decoder = nn.Linear(hidden_dim, num_nodes * num_nodes)\n",
    "\n",
    "    def forward(self, data_list):\n",
    "        encoded_graphs = []\n",
    "\n",
    "        for data in data_list:\n",
    "            x, edge_index = data.x, data.edge_index\n",
    "            x = F.relu(self.encoder(x, edge_index))\n",
    "            x_embedding = self.embedding_layer(x, edge_index)\n",
    "            encoded_graphs.append(x_embedding.view(self.batch_size, -1))\n",
    "\n",
    "        # Shape: [batch_size, num_time_steps, embedding_dim * num_nodes]\n",
    "        encoded_sequence = torch.stack(encoded_graphs, dim=1)\n",
    "        lstm_output, _ = self.lstm(encoded_sequence)\n",
    "        # Decode each time step\n",
    "        reconstructed_all_steps = []\n",
    "        for t in range(self.num_time_steps):\n",
    "            x_reconstructed = self.decoder(lstm_output[:, t, :])\n",
    "            reconstructed_all_steps.append(x_reconstructed.view(self.batch_size, self.num_nodes, self.num_nodes))\n",
    "\n",
    "        # Stack to get the final output tensor of shape [batch_size, num_time_steps, num_nodes, num_nodes]\n",
    "        reconstructed_all_steps = torch.stack(reconstructed_all_steps, dim=1)\n",
    "        return reconstructed_all_steps\n",
    "    \n",
    "def loss_function(reconstructed, original):\n",
    "    # Compute loss across all time steps\n",
    "    return F.mse_loss(reconstructed, original)"
   ]
  },
  {
   "cell_type": "code",
   "execution_count": 10,
   "metadata": {},
   "outputs": [
    {
     "name": "stdout",
     "output_type": "stream",
     "text": [
      "x_split shape (data splitted into time windows):  torch.Size([1, 39, 360, 30])\n",
      "fc_matrices_dgbsl shape (final graph):  torch.Size([1, 39, 360, 360])\n"
     ]
    }
   ],
   "source": [
    "dataset_input = torch.load('/home/matteoc/graphs-nn/data/dataset_input.pt')\n",
    "dataset_ground = torch.load('/home/matteoc/graphs-nn/data/dataset_ground.pt')\n",
    "\n",
    "print('x_split shape (data splitted into time windows): ', dataset_input[0].shape)\n",
    "print('fc_matrices_dgbsl shape (final graph): ', dataset_ground[0].shape)"
   ]
  },
  {
   "cell_type": "code",
   "execution_count": 44,
   "metadata": {},
   "outputs": [],
   "source": [
    "import networkx as nx\n",
    "\n",
    "def threshold_fc_matrix(fc_matrix, percentile=5):\n",
    "    \"\"\"\n",
    "    Threshold the FC matrix to keep only the top percentile connections.\n",
    "    \"\"\"\n",
    "    fc_matrix = fc_matrix.detach().numpy()\n",
    "    threshold = np.percentile(fc_matrix[np.tril_indices_from(fc_matrix, k=-1)], 100 - percentile)   \n",
    "    graph = (fc_matrix > threshold).astype(int)\n",
    "    np.fill_diagonal(graph, 0)  # remove self-edges\n",
    "    return graph\n",
    "\n",
    "def convert_to_pyg_graph(nx_graph):\n",
    "    graph = nx.Graph(nx_graph)\n",
    "    edges = torch.tensor(list(graph.edges), dtype=torch.long).t().contiguous()\n",
    "    x = torch.tensor(np.identity(graph.number_of_nodes()), dtype=torch.float)\n",
    "    \n",
    "    # For unsupervised learning, you typically don't have node labels\n",
    "    # If you have node features, replace x with them\n",
    "    return Data(x=x, edge_index=edges)\n",
    "\n",
    "\n",
    "adj_matrix = dataset_ground[0][0]\n",
    "num_time_steps = adj_matrix.shape[0]\n",
    "num_nodes = adj_matrix.shape[1]\n",
    "hidden_dim = 64\n",
    "embedding_dim = 32\n",
    "batch_size = 1  # Can be changed as needed\n",
    "\n",
    "# Convert each time slice to a graph\n",
    "tensor_list = torch.unbind(adj_matrix, dim=0)\n",
    "graphs = [threshold_fc_matrix(fc) for fc in tensor_list] \n",
    "pyg_graphs = [convert_to_pyg_graph(g) for g in graphs]\n"
   ]
  },
  {
   "cell_type": "code",
   "execution_count": 31,
   "metadata": {},
   "outputs": [
    {
     "data": {
      "text/plain": [
       "[Data(x=[360, 360], edge_index=[2, 3231]),\n",
       " Data(x=[360, 360], edge_index=[2, 3231]),\n",
       " Data(x=[360, 360], edge_index=[2, 3231]),\n",
       " Data(x=[360, 360], edge_index=[2, 3231]),\n",
       " Data(x=[360, 360], edge_index=[2, 3231]),\n",
       " Data(x=[360, 360], edge_index=[2, 3231]),\n",
       " Data(x=[360, 360], edge_index=[2, 3231]),\n",
       " Data(x=[360, 360], edge_index=[2, 3231]),\n",
       " Data(x=[360, 360], edge_index=[2, 3231]),\n",
       " Data(x=[360, 360], edge_index=[2, 3231]),\n",
       " Data(x=[360, 360], edge_index=[2, 3231]),\n",
       " Data(x=[360, 360], edge_index=[2, 3231]),\n",
       " Data(x=[360, 360], edge_index=[2, 3231]),\n",
       " Data(x=[360, 360], edge_index=[2, 3231]),\n",
       " Data(x=[360, 360], edge_index=[2, 3231]),\n",
       " Data(x=[360, 360], edge_index=[2, 3231]),\n",
       " Data(x=[360, 360], edge_index=[2, 3231]),\n",
       " Data(x=[360, 360], edge_index=[2, 3231]),\n",
       " Data(x=[360, 360], edge_index=[2, 3231]),\n",
       " Data(x=[360, 360], edge_index=[2, 3231]),\n",
       " Data(x=[360, 360], edge_index=[2, 3231]),\n",
       " Data(x=[360, 360], edge_index=[2, 3231]),\n",
       " Data(x=[360, 360], edge_index=[2, 3231]),\n",
       " Data(x=[360, 360], edge_index=[2, 3231]),\n",
       " Data(x=[360, 360], edge_index=[2, 3231]),\n",
       " Data(x=[360, 360], edge_index=[2, 3231]),\n",
       " Data(x=[360, 360], edge_index=[2, 3231]),\n",
       " Data(x=[360, 360], edge_index=[2, 3231]),\n",
       " Data(x=[360, 360], edge_index=[2, 3231]),\n",
       " Data(x=[360, 360], edge_index=[2, 3231]),\n",
       " Data(x=[360, 360], edge_index=[2, 3231]),\n",
       " Data(x=[360, 360], edge_index=[2, 3231]),\n",
       " Data(x=[360, 360], edge_index=[2, 3231]),\n",
       " Data(x=[360, 360], edge_index=[2, 3231]),\n",
       " Data(x=[360, 360], edge_index=[2, 3231]),\n",
       " Data(x=[360, 360], edge_index=[2, 3231]),\n",
       " Data(x=[360, 360], edge_index=[2, 3231]),\n",
       " Data(x=[360, 360], edge_index=[2, 3231]),\n",
       " Data(x=[360, 360], edge_index=[2, 3231])]"
      ]
     },
     "execution_count": 31,
     "metadata": {},
     "output_type": "execute_result"
    }
   ],
   "source": [
    "pyg_graphs"
   ]
  },
  {
   "cell_type": "code",
   "execution_count": 49,
   "metadata": {},
   "outputs": [],
   "source": [
    "model = TemporalGraphAutoencoder(num_nodes, hidden_dim, embedding_dim, num_time_steps, batch_size)\n"
   ]
  },
  {
   "cell_type": "code",
   "execution_count": 50,
   "metadata": {},
   "outputs": [
    {
     "name": "stderr",
     "output_type": "stream",
     "text": [
      "  0%|          | 0/100 [00:00<?, ?it/s]/tmp/ipykernel_816297/4137449674.py:36: UserWarning: Using a target size (torch.Size([39, 360, 360])) that is different to the input size (torch.Size([1, 39, 360, 360])). This will likely lead to incorrect results due to broadcasting. Please ensure they have the same size.\n",
      "  return F.mse_loss(reconstructed, original)\n",
      "  2%|▏         | 2/100 [00:00<00:22,  4.42it/s]"
     ]
    },
    {
     "name": "stdout",
     "output_type": "stream",
     "text": [
      "Epoch 1, Loss: 0.44136202335357666\n",
      "Epoch 2, Loss: 0.43013864755630493\n"
     ]
    },
    {
     "name": "stderr",
     "output_type": "stream",
     "text": [
      "  3%|▎         | 3/100 [00:00<00:21,  4.45it/s]"
     ]
    },
    {
     "name": "stdout",
     "output_type": "stream",
     "text": [
      "Epoch 3, Loss: 0.3792918920516968\n"
     ]
    },
    {
     "name": "stderr",
     "output_type": "stream",
     "text": [
      "  5%|▌         | 5/100 [00:01<00:20,  4.71it/s]"
     ]
    },
    {
     "name": "stdout",
     "output_type": "stream",
     "text": [
      "Epoch 4, Loss: 0.26352405548095703\n",
      "Epoch 5, Loss: 0.21721091866493225\n"
     ]
    },
    {
     "name": "stderr",
     "output_type": "stream",
     "text": [
      "  6%|▌         | 6/100 [00:01<00:19,  4.77it/s]"
     ]
    },
    {
     "name": "stdout",
     "output_type": "stream",
     "text": [
      "Epoch 6, Loss: 0.17399252951145172\n"
     ]
    },
    {
     "name": "stderr",
     "output_type": "stream",
     "text": [
      "  7%|▋         | 7/100 [00:01<00:19,  4.77it/s]"
     ]
    },
    {
     "name": "stdout",
     "output_type": "stream",
     "text": [
      "Epoch 7, Loss: 0.13542146980762482\n"
     ]
    },
    {
     "name": "stderr",
     "output_type": "stream",
     "text": [
      "  9%|▉         | 9/100 [00:01<00:19,  4.66it/s]"
     ]
    },
    {
     "name": "stdout",
     "output_type": "stream",
     "text": [
      "Epoch 8, Loss: 0.10298275947570801\n",
      "Epoch 9, Loss: 0.07715048640966415\n"
     ]
    },
    {
     "name": "stderr",
     "output_type": "stream",
     "text": [
      " 10%|█         | 10/100 [00:02<00:18,  4.82it/s]"
     ]
    },
    {
     "name": "stdout",
     "output_type": "stream",
     "text": [
      "Epoch 10, Loss: 0.05774484947323799\n"
     ]
    },
    {
     "name": "stderr",
     "output_type": "stream",
     "text": [
      " 11%|█         | 11/100 [00:02<00:19,  4.59it/s]"
     ]
    },
    {
     "name": "stdout",
     "output_type": "stream",
     "text": [
      "Epoch 11, Loss: 0.0441453792154789\n"
     ]
    },
    {
     "name": "stderr",
     "output_type": "stream",
     "text": [
      " 12%|█▏        | 12/100 [00:02<00:19,  4.44it/s]"
     ]
    },
    {
     "name": "stdout",
     "output_type": "stream",
     "text": [
      "Epoch 12, Loss: 0.03545810654759407\n"
     ]
    },
    {
     "name": "stderr",
     "output_type": "stream",
     "text": [
      " 14%|█▍        | 14/100 [00:03<00:17,  4.84it/s]"
     ]
    },
    {
     "name": "stdout",
     "output_type": "stream",
     "text": [
      "Epoch 13, Loss: 0.030660167336463928\n",
      "Epoch 14, Loss: 0.02871870994567871\n"
     ]
    },
    {
     "name": "stderr",
     "output_type": "stream",
     "text": [
      " 16%|█▌        | 16/100 [00:03<00:15,  5.53it/s]"
     ]
    },
    {
     "name": "stdout",
     "output_type": "stream",
     "text": [
      "Epoch 15, Loss: 0.02867952547967434\n",
      "Epoch 16, Loss: 0.02972499281167984\n"
     ]
    },
    {
     "name": "stderr",
     "output_type": "stream",
     "text": [
      " 18%|█▊        | 18/100 [00:03<00:13,  6.22it/s]"
     ]
    },
    {
     "name": "stdout",
     "output_type": "stream",
     "text": [
      "Epoch 17, Loss: 0.031204260885715485\n",
      "Epoch 18, Loss: 0.03264063969254494\n"
     ]
    },
    {
     "name": "stderr",
     "output_type": "stream",
     "text": [
      " 20%|██        | 20/100 [00:03<00:11,  6.67it/s]"
     ]
    },
    {
     "name": "stdout",
     "output_type": "stream",
     "text": [
      "Epoch 19, Loss: 0.03372211754322052\n",
      "Epoch 20, Loss: 0.03428047522902489\n"
     ]
    },
    {
     "name": "stderr",
     "output_type": "stream",
     "text": [
      " 22%|██▏       | 22/100 [00:04<00:11,  6.80it/s]"
     ]
    },
    {
     "name": "stdout",
     "output_type": "stream",
     "text": [
      "Epoch 21, Loss: 0.03426367789506912\n",
      "Epoch 22, Loss: 0.0337054580450058\n"
     ]
    },
    {
     "name": "stderr",
     "output_type": "stream",
     "text": [
      " 24%|██▍       | 24/100 [00:04<00:10,  7.02it/s]"
     ]
    },
    {
     "name": "stdout",
     "output_type": "stream",
     "text": [
      "Epoch 23, Loss: 0.032695382833480835\n",
      "Epoch 24, Loss: 0.03135223686695099\n"
     ]
    },
    {
     "name": "stderr",
     "output_type": "stream",
     "text": [
      " 26%|██▌       | 26/100 [00:04<00:10,  7.01it/s]"
     ]
    },
    {
     "name": "stdout",
     "output_type": "stream",
     "text": [
      "Epoch 25, Loss: 0.029802514240145683\n",
      "Epoch 26, Loss: 0.028164859861135483\n"
     ]
    },
    {
     "name": "stderr",
     "output_type": "stream",
     "text": [
      " 28%|██▊       | 28/100 [00:05<00:10,  7.14it/s]"
     ]
    },
    {
     "name": "stdout",
     "output_type": "stream",
     "text": [
      "Epoch 27, Loss: 0.026540186256170273\n",
      "Epoch 28, Loss: 0.02500670775771141\n"
     ]
    },
    {
     "name": "stderr",
     "output_type": "stream",
     "text": [
      " 30%|███       | 30/100 [00:05<00:09,  7.17it/s]"
     ]
    },
    {
     "name": "stdout",
     "output_type": "stream",
     "text": [
      "Epoch 29, Loss: 0.023618588224053383\n",
      "Epoch 30, Loss: 0.022407248616218567\n"
     ]
    },
    {
     "name": "stderr",
     "output_type": "stream",
     "text": [
      " 32%|███▏      | 32/100 [00:05<00:09,  7.22it/s]"
     ]
    },
    {
     "name": "stdout",
     "output_type": "stream",
     "text": [
      "Epoch 31, Loss: 0.02138429880142212\n",
      "Epoch 32, Loss: 0.020545465871691704\n"
     ]
    },
    {
     "name": "stderr",
     "output_type": "stream",
     "text": [
      " 34%|███▍      | 34/100 [00:05<00:09,  7.25it/s]"
     ]
    },
    {
     "name": "stdout",
     "output_type": "stream",
     "text": [
      "Epoch 33, Loss: 0.01987496390938759\n",
      "Epoch 34, Loss: 0.019349804148077965\n"
     ]
    },
    {
     "name": "stderr",
     "output_type": "stream",
     "text": [
      " 36%|███▌      | 36/100 [00:06<00:08,  7.29it/s]"
     ]
    },
    {
     "name": "stdout",
     "output_type": "stream",
     "text": [
      "Epoch 35, Loss: 0.018943648785352707\n",
      "Epoch 36, Loss: 0.018629923462867737\n"
     ]
    },
    {
     "name": "stderr",
     "output_type": "stream",
     "text": [
      " 38%|███▊      | 38/100 [00:06<00:08,  7.27it/s]"
     ]
    },
    {
     "name": "stdout",
     "output_type": "stream",
     "text": [
      "Epoch 37, Loss: 0.018384026363492012\n",
      "Epoch 38, Loss: 0.018184728920459747\n"
     ]
    },
    {
     "name": "stderr",
     "output_type": "stream",
     "text": [
      " 40%|████      | 40/100 [00:06<00:08,  7.29it/s]"
     ]
    },
    {
     "name": "stdout",
     "output_type": "stream",
     "text": [
      "Epoch 39, Loss: 0.018014846369624138\n",
      "Epoch 40, Loss: 0.017861420288681984\n"
     ]
    },
    {
     "name": "stderr",
     "output_type": "stream",
     "text": [
      " 42%|████▏     | 42/100 [00:06<00:08,  7.25it/s]"
     ]
    },
    {
     "name": "stdout",
     "output_type": "stream",
     "text": [
      "Epoch 41, Loss: 0.01771555095911026\n",
      "Epoch 42, Loss: 0.017571933567523956\n"
     ]
    },
    {
     "name": "stderr",
     "output_type": "stream",
     "text": [
      " 44%|████▍     | 44/100 [00:07<00:07,  7.20it/s]"
     ]
    },
    {
     "name": "stdout",
     "output_type": "stream",
     "text": [
      "Epoch 43, Loss: 0.017428243532776833\n",
      "Epoch 44, Loss: 0.017284367233514786\n"
     ]
    },
    {
     "name": "stderr",
     "output_type": "stream",
     "text": [
      " 46%|████▌     | 46/100 [00:07<00:07,  7.09it/s]"
     ]
    },
    {
     "name": "stdout",
     "output_type": "stream",
     "text": [
      "Epoch 45, Loss: 0.01714162342250347\n",
      "Epoch 46, Loss: 0.017002057284116745\n"
     ]
    },
    {
     "name": "stderr",
     "output_type": "stream",
     "text": [
      " 48%|████▊     | 48/100 [00:07<00:07,  7.12it/s]"
     ]
    },
    {
     "name": "stdout",
     "output_type": "stream",
     "text": [
      "Epoch 47, Loss: 0.01686786487698555\n",
      "Epoch 48, Loss: 0.01674102246761322\n"
     ]
    },
    {
     "name": "stderr",
     "output_type": "stream",
     "text": [
      " 50%|█████     | 50/100 [00:08<00:06,  7.34it/s]"
     ]
    },
    {
     "name": "stdout",
     "output_type": "stream",
     "text": [
      "Epoch 49, Loss: 0.01662306860089302\n",
      "Epoch 50, Loss: 0.016515012830495834\n"
     ]
    },
    {
     "name": "stderr",
     "output_type": "stream",
     "text": [
      " 52%|█████▏    | 52/100 [00:08<00:06,  7.32it/s]"
     ]
    },
    {
     "name": "stdout",
     "output_type": "stream",
     "text": [
      "Epoch 51, Loss: 0.01641734689474106\n",
      "Epoch 52, Loss: 0.01633007824420929\n"
     ]
    },
    {
     "name": "stderr",
     "output_type": "stream",
     "text": [
      " 54%|█████▍    | 54/100 [00:08<00:06,  7.23it/s]"
     ]
    },
    {
     "name": "stdout",
     "output_type": "stream",
     "text": [
      "Epoch 53, Loss: 0.01625281572341919\n",
      "Epoch 54, Loss: 0.01618485525250435\n"
     ]
    },
    {
     "name": "stderr",
     "output_type": "stream",
     "text": [
      " 56%|█████▌    | 56/100 [00:08<00:06,  7.33it/s]"
     ]
    },
    {
     "name": "stdout",
     "output_type": "stream",
     "text": [
      "Epoch 55, Loss: 0.01612529717385769\n",
      "Epoch 56, Loss: 0.01607314683496952\n"
     ]
    },
    {
     "name": "stderr",
     "output_type": "stream",
     "text": [
      " 58%|█████▊    | 58/100 [00:09<00:05,  7.37it/s]"
     ]
    },
    {
     "name": "stdout",
     "output_type": "stream",
     "text": [
      "Epoch 57, Loss: 0.016027400270104408\n",
      "Epoch 58, Loss: 0.015987111255526543\n"
     ]
    },
    {
     "name": "stderr",
     "output_type": "stream",
     "text": [
      " 60%|██████    | 60/100 [00:09<00:05,  7.33it/s]"
     ]
    },
    {
     "name": "stdout",
     "output_type": "stream",
     "text": [
      "Epoch 59, Loss: 0.01595141924917698\n",
      "Epoch 60, Loss: 0.015919584780931473\n"
     ]
    },
    {
     "name": "stderr",
     "output_type": "stream",
     "text": [
      " 62%|██████▏   | 62/100 [00:09<00:05,  7.39it/s]"
     ]
    },
    {
     "name": "stdout",
     "output_type": "stream",
     "text": [
      "Epoch 61, Loss: 0.01589098758995533\n",
      "Epoch 62, Loss: 0.01586512103676796\n"
     ]
    },
    {
     "name": "stderr",
     "output_type": "stream",
     "text": [
      " 64%|██████▍   | 64/100 [00:09<00:04,  7.38it/s]"
     ]
    },
    {
     "name": "stdout",
     "output_type": "stream",
     "text": [
      "Epoch 63, Loss: 0.015841595828533173\n",
      "Epoch 64, Loss: 0.015820099040865898\n"
     ]
    },
    {
     "name": "stderr",
     "output_type": "stream",
     "text": [
      " 66%|██████▌   | 66/100 [00:10<00:04,  7.42it/s]"
     ]
    },
    {
     "name": "stdout",
     "output_type": "stream",
     "text": [
      "Epoch 65, Loss: 0.01580039970576763\n",
      "Epoch 66, Loss: 0.015782317146658897\n"
     ]
    },
    {
     "name": "stderr",
     "output_type": "stream",
     "text": [
      " 68%|██████▊   | 68/100 [00:10<00:04,  7.49it/s]"
     ]
    },
    {
     "name": "stdout",
     "output_type": "stream",
     "text": [
      "Epoch 67, Loss: 0.015765709802508354\n",
      "Epoch 68, Loss: 0.015750471502542496\n"
     ]
    },
    {
     "name": "stderr",
     "output_type": "stream",
     "text": [
      " 70%|███████   | 70/100 [00:10<00:04,  6.77it/s]"
     ]
    },
    {
     "name": "stdout",
     "output_type": "stream",
     "text": [
      "Epoch 69, Loss: 0.015736518427729607\n",
      "Epoch 70, Loss: 0.015723779797554016\n"
     ]
    },
    {
     "name": "stderr",
     "output_type": "stream",
     "text": [
      " 72%|███████▏  | 72/100 [00:11<00:04,  6.41it/s]"
     ]
    },
    {
     "name": "stdout",
     "output_type": "stream",
     "text": [
      "Epoch 71, Loss: 0.015712203457951546\n",
      "Epoch 72, Loss: 0.01570172607898712\n"
     ]
    },
    {
     "name": "stderr",
     "output_type": "stream",
     "text": [
      " 74%|███████▍  | 74/100 [00:11<00:03,  6.75it/s]"
     ]
    },
    {
     "name": "stdout",
     "output_type": "stream",
     "text": [
      "Epoch 73, Loss: 0.01569228246808052\n",
      "Epoch 74, Loss: 0.015683792531490326\n"
     ]
    },
    {
     "name": "stderr",
     "output_type": "stream",
     "text": [
      " 76%|███████▌  | 76/100 [00:11<00:03,  7.01it/s]"
     ]
    },
    {
     "name": "stdout",
     "output_type": "stream",
     "text": [
      "Epoch 75, Loss: 0.01567617431282997\n",
      "Epoch 76, Loss: 0.015669330954551697\n"
     ]
    },
    {
     "name": "stderr",
     "output_type": "stream",
     "text": [
      " 78%|███████▊  | 78/100 [00:11<00:03,  7.33it/s]"
     ]
    },
    {
     "name": "stdout",
     "output_type": "stream",
     "text": [
      "Epoch 77, Loss: 0.01566317491233349\n",
      "Epoch 78, Loss: 0.015657620504498482\n"
     ]
    },
    {
     "name": "stderr",
     "output_type": "stream",
     "text": [
      " 80%|████████  | 80/100 [00:12<00:02,  7.31it/s]"
     ]
    },
    {
     "name": "stdout",
     "output_type": "stream",
     "text": [
      "Epoch 79, Loss: 0.015652591362595558\n",
      "Epoch 80, Loss: 0.01564803160727024\n"
     ]
    },
    {
     "name": "stderr",
     "output_type": "stream",
     "text": [
      " 82%|████████▏ | 82/100 [00:12<00:02,  7.30it/s]"
     ]
    },
    {
     "name": "stdout",
     "output_type": "stream",
     "text": [
      "Epoch 81, Loss: 0.015643885359168053\n",
      "Epoch 82, Loss: 0.015640124678611755\n"
     ]
    },
    {
     "name": "stderr",
     "output_type": "stream",
     "text": [
      " 84%|████████▍ | 84/100 [00:12<00:02,  7.48it/s]"
     ]
    },
    {
     "name": "stdout",
     "output_type": "stream",
     "text": [
      "Epoch 83, Loss: 0.015636714175343513\n",
      "Epoch 84, Loss: 0.015633629634976387\n"
     ]
    },
    {
     "name": "stderr",
     "output_type": "stream",
     "text": [
      " 86%|████████▌ | 86/100 [00:13<00:01,  7.40it/s]"
     ]
    },
    {
     "name": "stdout",
     "output_type": "stream",
     "text": [
      "Epoch 85, Loss: 0.015630844980478287\n",
      "Epoch 86, Loss: 0.015628337860107422\n"
     ]
    },
    {
     "name": "stderr",
     "output_type": "stream",
     "text": [
      " 88%|████████▊ | 88/100 [00:13<00:01,  7.32it/s]"
     ]
    },
    {
     "name": "stdout",
     "output_type": "stream",
     "text": [
      "Epoch 87, Loss: 0.015626078471541405\n",
      "Epoch 88, Loss: 0.015624037012457848\n"
     ]
    },
    {
     "name": "stderr",
     "output_type": "stream",
     "text": [
      " 90%|█████████ | 90/100 [00:13<00:01,  7.31it/s]"
     ]
    },
    {
     "name": "stdout",
     "output_type": "stream",
     "text": [
      "Epoch 89, Loss: 0.015622188337147236\n",
      "Epoch 90, Loss: 0.015620503574609756\n"
     ]
    },
    {
     "name": "stderr",
     "output_type": "stream",
     "text": [
      " 92%|█████████▏| 92/100 [00:13<00:01,  7.29it/s]"
     ]
    },
    {
     "name": "stdout",
     "output_type": "stream",
     "text": [
      "Epoch 91, Loss: 0.015618962235748768\n",
      "Epoch 92, Loss: 0.015617543831467628\n"
     ]
    },
    {
     "name": "stderr",
     "output_type": "stream",
     "text": [
      " 94%|█████████▍| 94/100 [00:14<00:00,  7.31it/s]"
     ]
    },
    {
     "name": "stdout",
     "output_type": "stream",
     "text": [
      "Epoch 93, Loss: 0.015616240911185741\n",
      "Epoch 94, Loss: 0.01561504602432251\n"
     ]
    },
    {
     "name": "stderr",
     "output_type": "stream",
     "text": [
      " 96%|█████████▌| 96/100 [00:14<00:00,  7.35it/s]"
     ]
    },
    {
     "name": "stdout",
     "output_type": "stream",
     "text": [
      "Epoch 95, Loss: 0.015613947995007038\n",
      "Epoch 96, Loss: 0.015612948685884476\n"
     ]
    },
    {
     "name": "stderr",
     "output_type": "stream",
     "text": [
      " 98%|█████████▊| 98/100 [00:14<00:00,  7.42it/s]"
     ]
    },
    {
     "name": "stdout",
     "output_type": "stream",
     "text": [
      "Epoch 97, Loss: 0.015612035058438778\n",
      "Epoch 98, Loss: 0.015611198730766773\n"
     ]
    },
    {
     "name": "stderr",
     "output_type": "stream",
     "text": [
      "100%|██████████| 100/100 [00:14<00:00,  6.68it/s]"
     ]
    },
    {
     "name": "stdout",
     "output_type": "stream",
     "text": [
      "Epoch 99, Loss: 0.015610439702868462\n",
      "Epoch 100, Loss: 0.015609745867550373\n"
     ]
    },
    {
     "name": "stderr",
     "output_type": "stream",
     "text": [
      "\n"
     ]
    }
   ],
   "source": [
    "from tqdm import trange\n",
    "\n",
    "optimizer = torch.optim.Adam(model.parameters(), lr=0.01)\n",
    "model.train()\n",
    "epochs = trange(50)\n",
    "for epoch in epochs:\n",
    "    optimizer.zero_grad()\n",
    "    reconstructed = model(pyg_graphs)\n",
    "    loss = loss_function(reconstructed, adj_matrix)\n",
    "    loss.backward()\n",
    "    optimizer.step()\n",
    "    print(f'Epoch {epoch+1}, Loss: {loss.item()}')"
   ]
  },
  {
   "cell_type": "code",
   "execution_count": 53,
   "metadata": {},
   "outputs": [],
   "source": [
    "reconstructed_graph = [threshold_fc_matrix(fc) for fc in reconstructed[0]] "
   ]
  },
  {
   "cell_type": "code",
   "execution_count": 58,
   "metadata": {},
   "outputs": [
    {
     "data": {
      "text/plain": [
       "39"
      ]
     },
     "execution_count": 58,
     "metadata": {},
     "output_type": "execute_result"
    }
   ],
   "source": [
    "len(reconstructed_graph)"
   ]
  },
  {
   "cell_type": "code",
   "execution_count": 64,
   "metadata": {},
   "outputs": [
    {
     "data": {
      "image/png": "[encoded data removed]",
      "text/plain": [
       "<Figure size 1000x1000 with 2 Axes>"
      ]
     },
     "metadata": {},
     "output_type": "display_data"
    }
   ],
   "source": [
    "import matplotlib.pyplot as plt\n",
    "import seaborn as sns\n",
    "\n",
    "plt.figure(figsize=(10, 10))\n",
    "sns.heatmap(reconstructed_graph[0], cmap='viridis')\n",
    "plt.title('Graph Connectivity')\n",
    "plt.show()"
   ]
  }
 ],
 "metadata": {
  "kernelspec": {
   "display_name": "dbgdgm",
   "language": "python",
   "name": "python3"
  },
  "language_info": {
   "codemirror_mode": {
    "name": "ipython",
    "version": 3
   },
   "file_extension": ".py",
   "mimetype": "text/x-python",
   "name": "python",
   "nbconvert_exporter": "python",
   "pygments_lexer": "ipython3",
   "version": "3.9.16"
  }
 },
 "nbformat": 4,
 "nbformat_minor": 2
}
